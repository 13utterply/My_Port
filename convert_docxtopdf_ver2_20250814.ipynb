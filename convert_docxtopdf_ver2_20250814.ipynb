# This script converts .docx files to .pdf with Thai-language support in Colab.
# It helps ensure that Thai text is rendered correctly in situations where the printer or system doesn’t support Thai fonts natively.
# https://colab.research.google.com/gist/13utterply/3811726331d83190346e1f88d8e283e0/convert_docxtopdf_ver2_20250814.ipynb

# STEP 0: ก่อนทำข้างล่างนี้ ให้แปลงโฟลเดอร์ใหญ่สุด หรือ โฟลเดอร์นอกสุดที่จะใช้ เป็น zip file ก่อน

from google.colab import drive
drive.mount('/content/drive')

import os
for root, dirs, files in os.walk('/content/drive/MyDrive/myfolder'):
    for file in files:
        print(file)

# STEP 1: ติดตั้ง LibreOffice และไลบรารี
!apt-get install -y libreoffice python3-docx > /dev/null
from google.colab import files
import zipfile, os, subprocess, shutil ,re
from docx import Document
#from docx.shared import Pt
from docx.enum.text import WD_ALIGN_PARAGRAPH
#from docx.oxml.ns import qn
#from docx.shared import Pt

# STEP 2: อัปโหลด ZIP
# เมื่อกดปุ่มรันข้างล่างนี้แล้ว กดที่ปุ่ม Choose files เลือกzip ไฟล์ที่แปลงไว้แล้วและเซฟเอาไว้จากในเครื่อง

workdir = "word_files"

# ถ้าโฟลเดอร์ยังอยู่ ให้ลบทั้งโฟลเดอร์ (ignore errors)
if os.path.exists(workdir):
    try:
        shutil.rmtree(workdir)
        print("✅ ลบโฟลเดอร์ word_files เรียบร้อยแล้ว")
    except Exception as e:
        print(f"❌ ลบโฟลเดอร์ไม่สำเร็จ: {e}")
else:


# เลือก ZIP ที่รวมโฟลเดอร์ไว้แล้ว เอามาใส่ใน word_files

uploaded = files.upload()
zip_filename = next(iter(uploaded))
workdir = "word_files"
with zipfile.ZipFile(zip_filename, 'r') as z:
    z.extractall(workdir)
print("✅ แตกไฟล์ ZIP แล้ว")


#STEP 3: สแกน PUA และสร้างรายงาน

import unicodedata

def find_pua(text):
    return [ch for ch in text if ord(ch) >= 0xE000 and ord(ch) <= 0xF8FF]

report = {}
for root, _, files_list in os.walk(workdir):
    for fname in files_list:
        if fname.endswith(".docx"):
            path = os.path.join(root, fname)
            doc = Document(path)
            found = set()
            for para in doc.paragraphs:
                found.update(find_pua(para.text))
            report[fname] = list(found)
print("📝 รายงานอักขระ PUA ที่พบ:")
for fn, chars in report.items():
    if chars:
        hexes = [hex(ord(c)) for c in chars]
        print(f" - {fn}: {chars} => {hexes}")

def normalize_text(text):
    return unicodedata.normalize("NFC", text)
NFC = Normalize Form Composed → รวมอักขระที่แยกกันให้เป็นตัวเดียว (เช่น ไม้เอก + ั → ั่)


#STEP 4: กำหนดแมปคำ + fix function

custom_replacements = {
    "นี": "นี้",
    "นี": "นี่",
    "ทําได": "ทำได้",
    "ที": "ที่",
    "ครึง": "ครึ่ง",
    "ครัง": "ครั้ง",
    "ได": "ได้",
    "อย่างงี": "อย่างงี้",
    "อันนัน": "อันนั้น",
    "ขึน": "ขึ้น",
    "ถ": "ถ้า",
    "อาทิตย": "อาทิตย์",
    "อยู": "อยู่",
    "ไม": "ไม่",
    "เปนไร": "เป็นไร",
    "นอย": "น้อย",
    "อะ": "อ่ะ",
    "แลว": "แล้ว",
    "ถา": "ถ้า",
    "อะนะ": "อ่ะนะ",
    "มัง ": "มั้ง",
    "เดียว": "เดี๋ยว",
    "งัน": "งั้น",
    "งั น": "งั้น",
    "ปั ญหา": "ปัญหา",
    "เกิ ด": "เกิด",
    "ตัง": "ตั้ง",
    "เปน":"เป็น"

}

def fix_text(text):
    for wrong, correct in custom_replacements.items():
        text = text.replace(wrong, correct)
    text = (text.replace("", "่")
                .replace("", "้")
                .replace("", "๊"))
    return normalize_text(text)

def insert_filename_heading(doc, foldername, filename):
    from docx.enum.text import WD_ALIGN_PARAGRAPH
    heading_text = f"ชื่อโฟลเดอร์: {foldername} ชื่อไฟล์: {filename}"

    # ใช้พารากราฟแรกเป็น anchor
    anchor_para = doc.paragraphs[0] if doc.paragraphs else doc.add_paragraph()

    # แทรก heading ด้านบน
    heading_para = anchor_para.insert_paragraph_before(heading_text)
    heading_para.alignment = WD_ALIGN_PARAGRAPH.LEFT

    # เพิ่ม 2 บรรทัดว่าง
    doc.add_paragraph("")
    doc.add_paragraph("")

def process_docx(path):
    doc = Document(path)
    foldername = os.path.basename(os.path.dirname(path))
    filename = os.path.splitext(os.path.basename(path))[0]
    #แทรก heading
    insert_filename_heading(doc, foldername, filename)

    # แก้ paragraph ตั้งแต่ index 3 เป็นต้นไป (ข้าม heading + blank 2 บรรทัด)
    for para in doc.paragraphs:
        #if i >= 3:
        for run in para.runs:
            run.text = fix_text(run.text)


    for table in doc.tables:
        for row in table.rows:
            for cell in row.cells:
                for p in cell.paragraphs:
                    for run in p.runs:
                        run.text = fix_text(run.text)

    doc.save(path)


# STEP 5: แก้ข้อความทุกไฟล์

for root, _, files_list in os.walk(workdir):
    for fname in files_list:
        if fname.endswith(".docx"):
            process_docx(os.path.join(root, fname))
print("✅ แก้ข้อความเสร็จเรียบร้อย")


# STEP 6: แปลงเป็น PDF

def convert_all(folder):
    for root, _, files_list in os.walk(folder):
        for fname in files_list:
            if fname.endswith(".docx"):
                inpath = os.path.join(root, fname)
                subprocess.run([
                    "libreoffice", "--headless",
                    "--convert-to", "pdf",
                    "--outdir", root, inpath
                ], stdout=subprocess.DEVNULL)
convert_all(workdir)
print("✅ แปลงเป็น PDF เรียบร้อย")


# STEP 7: บีบอัด PDF แล้วให้โหลด
# เซฟเข้าเครื่องได้เลยจ้า

import os, shutil, re


def sanitize_name(name, max_length=80):
    # แทนที่อักขระพิเศษที่ไม่ปลอดภัยด้วย "_" หรือเอาออก
    # คุณสามารถปรับให้แทนด้วย "_" หรือ "" ได้ตามต้องการ
    name = re.sub(r"[#\-(),']", "_", name)  # แทนด้วย "_" ทั้งหมด
    name = re.sub(r"[^a-zA-Z0-9ก-๙_. ]", "", name)  # ลบอักขระที่ไม่ใช่ตัวอักษรไทย/อังกฤษ/เลข/จุด/เว้นวรรค/_
    return name[:max_length]  # ตัดชื่อให้สั้นลงถ้าเกิน


# ✅ เปลี่ยนชื่อโฟลเดอร์ที่มี # ให้ปลอดภัยก่อน zip
for root, dirs, files in os.walk(workdir, topdown=False):  # ใช้ topdown=False เพื่อ rename subfolder ก่อน
    for d in dirs:
        old_path = os.path.join(root, d)
        safe_name = sanitize_name(d, 50) #จำกัดความยาวชื่อไฟล์แค่ 50 ตัว
        new_path = os.path.join(root, safe_name)
        if old_path != new_path:
          os.rename(old_path, new_path)

    for f in files:
        old_path = os.path.join(root, f)
        name, ext = os.path.splitext(f)
        safe_name = sanitize_name(name, 100) + ext #จำกัดความยาวชื่อไฟล์แค่ 100 ตัว และเพิ่มสกุลไฟล์กลับเข้าไป
        new_path = os.path.join(root, safe_name)
        if old_path != new_path:
          os.rename(old_path, new_path)

shutil.make_archive("converted_pdfs", 'zip', workdir)
from google.colab import files
files.download("converted_pdfs.zip")

#เก่งมาก เสร็จแล้วจ้า
#ขอให้เป็นวันที่ดีและราบรื่นนะ

#Colab paid products - Cancel contracts here

