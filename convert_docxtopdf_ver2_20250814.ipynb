# This script converts .docx files to .pdf with Thai-language support.
# It helps ensure that Thai text is rendered correctly in situations where the printer or system doesn’t support Thai fonts natively.

https://colab.research.google.com/gist/13utterply/3811726331d83190346e1f88d8e283e0/convert_docxtopdf_ver2_20250814.ipynb
